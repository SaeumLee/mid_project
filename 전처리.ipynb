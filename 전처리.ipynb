
# 신혼부부 총괄 데이터 전처리

import pandas as pd

datas = pd.read_csv('/content/drive/MyDrive/5. 미드프로젝트/시도별_신혼부부_총괄_20240317232708.csv' ,encoding = 'cp949')
datas.head(5)

datas.shape

# 시계열 항목의 컬럼을 행으로 밀어넣고 아래에 파이썬을 사용하여 아래의 datas1처럼 만들기

datas2 = datas.melt(id_vars=['항목', '행정구역별'], var_name='연도', value_name='데이터')
datas2


datas1 = pd.read_csv('/content/drive/MyDrive/5. 미드프로젝트/시도별_신혼부부_총괄.csv', encoding='cp949')
datas1

# 맞벌이 여부별 신혼부부수 전처리

df = pd.read_csv('/content/drive/MyDrive/5. 미드프로젝트/맞벌이여부별신혼부부수_csv.csv', encoding='cp949')
df

# 신혼부부 특성별(1) 특성별에서 전국만 뽑아서 저장.
df1 = df.loc[df["신혼부부 특성별(1)"] == '전국', :]
df1

# 신혼부부별(1) 조건에 맞는 에서 ['전국', '시도별', '주택소유물건수별'] 만 남겨서 저장
df2 = df.loc[df["신혼부부 특성별(1)"].isin(['전국', '시도별', '주택소유물건수별']), :]
df2

df1.to_csv('맞벌이여부별_전국', index = False)

df2.to_csv('맞벌이여부별_종합', index = False)

# 시각화되어있는 자료열 데이터화
    - 저출산 대응 예산 추이

col = ['연도','예산안']
data = [['2006','2.1'],['2007','2.1'],['2008','2.1'],['2009','2.1'],['2010','2.1']]

col = ['연도','예산안']
start_year = 2006
end_year = 2023
budget_value = '2.1'
data = [[str(year), budget_value] for year in range(start_year, end_year + 1)]

# 데이터프레임 생성
df = pd.DataFrame(data, columns=col)

df.예산안 = ['2.1','3.1','3.8','4.6','6.0','7.4','11.1','13.5','13.9','14.7','21.4','24.1','26.3','36.6','44.4','46.7','51.7','48.2']
df

df.to_csv('저출산대응예산추이' , index=False)

df4 = pd.read_csv('/content/drive/MyDrive/5. 미드프로젝트/연도별_주택_전세값추이csv.csv', encoding='cp949')
df4

df4 = df4.melt(id_vars=['지역별'], var_name='연도', value_name='데이터')
df4

df4.to_csv('연도별_주택_전세값', index=False)

#데이터 볼륨 체크

df2 = pd.read_csv('/content/drive/MyDrive/5. 미드프로젝트/초혼연령.csv', encoding='cp949', header=2)
df2

df2.shape

df3 = pd.read_csv('/content/drive/MyDrive/5. 미드프로젝트/결혼에대한 인식.csv', encoding = 'cp949', header=2)
df3

df3.shape
